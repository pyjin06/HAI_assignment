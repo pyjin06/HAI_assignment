{
 "cells": [
  {
   "cell_type": "code",
   "execution_count": null,
   "metadata": {},
   "outputs": [
    {
     "ename": "SyntaxError",
     "evalue": "invalid syntax (1353773822.py, line 1)",
     "output_type": "error",
     "traceback": [
      "\u001b[1;36m  Cell \u001b[1;32mIn[8], line 1\u001b[1;36m\u001b[0m\n\u001b[1;33m    inport numpy as np\u001b[0m\n\u001b[1;37m           ^\u001b[0m\n\u001b[1;31mSyntaxError\u001b[0m\u001b[1;31m:\u001b[0m invalid syntax\n"
     ]
    },
    {
     "ename": "",
     "evalue": "",
     "output_type": "error",
     "traceback": [
      "\u001b[1;31mThe Kernel crashed while executing code in the current cell or a previous cell. \n",
      "\u001b[1;31mPlease review the code in the cell(s) to identify a possible cause of the failure. \n",
      "\u001b[1;31mClick <a href='https://aka.ms/vscodeJupyterKernelCrash'>here</a> for more info. \n",
      "\u001b[1;31mView Jupyter <a href='command:jupyter.viewOutput'>log</a> for further details."
     ]
    }
   ],
   "source": [
    "import numpy as np\n",
    "import pandas as pd\n",
    "import matplotlib as plt\n",
    "from sklearn.datasets import load_iris\n",
    "\n",
    "def euclidean_distance(x1,x2):\n",
    "    return np.sqrt(np.sum((x1-x2)**2))\n",
    "def knn_predict(x,x_train,y_train,k):\n",
    "    distances = [euclidean_distance(x,xi) for xi in  x_train]\n",
    "    k_indices = np.argsort(distances)[:k]\n",
    "    k_labels = y_train[k_indices]\n",
    "\n",
    "    labels, counts = np.unique(k_labels, return_counts=True)\n",
    "    return labels[np.argmax(counts)]\n",
    "\n",
    "def compute_accuancy(x_val, y_val, x_train, y_train,k ):\n",
    "    correct = 0\n",
    "    for x,y in zip(x_val, y_val):\n",
    "        pred = knn_predict(x, x_train, y_train,k)\n",
    "        if pred == y:\n",
    "            correct +=1\n",
    "    return correct / len(y_val)\n",
    "x = np.array([\n",
    "    [1.0, 2.0], [1.5, 1.8], [5.0, 8.0],\n",
    "    [6.0, 9.0], [1.0, 0.6], [9.0, 11.0],\n",
    "    [8.0, 2.0], [10.0, 2.0], [9.0, 3.0]\n",
    "])\n",
    "y = ['A', 'A', 'B', 'B', 'A', 'B', 'B', 'B', 'B']\n",
    "np.random.seed(42)\n",
    "indicies = np.random.permutation(len(x))\n",
    "split = 0.7*len(x)\n",
    "\n",
    "train_idx = indicies[:split]\n",
    "val_idx = indicies[split:]\n",
    "\n",
    "x_train, y_train = x[train_idx], y[train_idx]\n",
    "x_val, y_val = x[val_idx], y[val_idx]\n",
    "\n",
    "k_candiates = range(1,8)\n",
    "best_k = None\n",
    "best_acc = 0.0\n",
    "\n",
    "\n"
   ]
  }
 ],
 "metadata": {
  "kernelspec": {
   "display_name": "myenv",
   "language": "python",
   "name": "python3"
  },
  "language_info": {
   "codemirror_mode": {
    "name": "ipython",
    "version": 3
   },
   "file_extension": ".py",
   "mimetype": "text/x-python",
   "name": "python",
   "nbconvert_exporter": "python",
   "pygments_lexer": "ipython3",
   "version": "3.10.16"
  }
 },
 "nbformat": 4,
 "nbformat_minor": 2
}
