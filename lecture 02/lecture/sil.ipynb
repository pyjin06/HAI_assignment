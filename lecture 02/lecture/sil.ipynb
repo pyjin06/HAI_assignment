{
 "cells": [
  {
   "cell_type": "code",
   "execution_count": 7,
   "metadata": {},
   "outputs": [
    {
     "name": "stdout",
     "output_type": "stream",
     "text": [
      "기울기 m은 nan\n",
      "nan\n",
      "y =  nan x + nan\n",
      "6.5시간일때예상성적은 nan 입니다.\n"
     ]
    },
    {
     "name": "stderr",
     "output_type": "stream",
     "text": [
      "c:\\anaconda3\\envs\\myenv\\lib\\site-packages\\numpy\\_core\\_methods.py:135: RuntimeWarning: overflow encountered in reduce\n",
      "  ret = umr_sum(arr, axis, dtype, out, keepdims, where=where)\n",
      "C:\\Users\\geome\\AppData\\Local\\Temp\\ipykernel_4124\\2211670497.py:19: RuntimeWarning: overflow encountered in square\n",
      "  loss = np.mean(error**2)\n",
      "C:\\Users\\geome\\AppData\\Local\\Temp\\ipykernel_4124\\2211670497.py:25: RuntimeWarning: invalid value encountered in scalar subtract\n",
      "  m -= alpha*dm\n"
     ]
    }
   ],
   "source": [
    "import numpy as np\n",
    "import matplotlib.pyplot as plt\n",
    " \n",
    "x = np.array([1,2,3,4,5,6,7,8,9,10,11,12,13,14,15])\n",
    "y= np.array([46,50,55,70,74,80,86,94,99,100,111,114,117,125,130])\n",
    "\n",
    "m=2\n",
    "c=50\n",
    "alpha = 0.05\n",
    "epoch = 2000\n",
    "\n",
    "n =len(x)\n",
    "loss_history = []\n",
    "\n",
    "for i in range(epoch):\n",
    "    y_pred = m*x + c\n",
    "    error = y - y_pred\n",
    "\n",
    "    loss = np.mean(error**2)\n",
    "    loss_history.append(loss)\n",
    "\n",
    "    dm = -2*np.mean(x*error)\n",
    "    dc = -2*np.mean(error)\n",
    "\n",
    "    m -= alpha*dm\n",
    "    c -= alpha*dc\n",
    "\n",
    "print(\"기울기 m은\", m)\n",
    "print(c)\n",
    "print(\"y = \",m,\"x +\",c)\n",
    "print(\"6.5시간일때예상성적은\",m*6.5+c,\"입니다.\")"
   ]
  }
 ],
 "metadata": {
  "kernelspec": {
   "display_name": "myenv",
   "language": "python",
   "name": "python3"
  },
  "language_info": {
   "codemirror_mode": {
    "name": "ipython",
    "version": 3
   },
   "file_extension": ".py",
   "mimetype": "text/x-python",
   "name": "python",
   "nbconvert_exporter": "python",
   "pygments_lexer": "ipython3",
   "version": "3.10.16"
  }
 },
 "nbformat": 4,
 "nbformat_minor": 2
}
